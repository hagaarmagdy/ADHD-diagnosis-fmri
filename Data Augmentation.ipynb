{
 "cells": [
  {
   "cell_type": "code",
   "execution_count": 1,
   "metadata": {},
   "outputs": [],
   "source": [
    "import tensorflow as tf\n",
    "from keras.preprocessing.image import ImageDataGenerator\n",
    "import cv2\n",
    "import imutils\n",
    "import matplotlib.pyplot as plt\n",
    "from os import listdir\n",
    "import time"
   ]
  },
  {
   "cell_type": "markdown",
   "metadata": {},
   "source": [
    "##### Converting from gif files to png files"
   ]
  },
  {
   "cell_type": "code",
   "execution_count": 2,
   "metadata": {},
   "outputs": [],
   "source": [
    "# import glob,os\n",
    "# from PIL import Image\n",
    "\n",
    "# files = glob.glob('C:\\\\Users\\\\hagar\\\\OneDrive\\\\Documents\\\\gp\\\\0\\\\*') \n",
    "\n",
    "# for imageFile in files:\n",
    "#     filenum = 0\n",
    "#     filepath,filename = os.path.split(imageFile)\n",
    "#     filterame,exts = os.path.splitext(filename)\n",
    "#     print(\"Processing: \" + imageFile,filterame)\n",
    "#     im = Image.open(imageFile)\n",
    "#     im.save(str(filenum)+filterame+'.png','PNG')\n",
    "#     filenum+=1"
   ]
  },
  {
   "cell_type": "markdown",
   "metadata": {},
   "source": [
    "#### Data Augmentation to increase number of scans"
   ]
  },
  {
   "cell_type": "code",
   "execution_count": 3,
   "metadata": {},
   "outputs": [
    {
     "name": "stdout",
     "output_type": "stream",
     "text": [
      "0:1:40\n"
     ]
    }
   ],
   "source": [
    "# Time string\n",
    "def hms_string(sec_elapsed):\n",
    "    h = int(sec_elapsed / (60 * 60))\n",
    "    m = int((sec_elapsed % (60 * 60)) / 60)\n",
    "    s = sec_elapsed % 60\n",
    "    return f\"{h}:{m}:{round(s,1)}\"\n",
    "print(hms_string(100))"
   ]
  },
  {
   "cell_type": "code",
   "execution_count": 4,
   "metadata": {},
   "outputs": [],
   "source": [
    "def augment_data(file_dir, n_generated_samples, save_to_dir):\n",
    "    \n",
    "    data_gen = ImageDataGenerator(rotation_range=10, \n",
    "                                  width_shift_range=0.1, \n",
    "                                  height_shift_range=0.1, \n",
    "                                  shear_range=0.1, \n",
    "                                  brightness_range=(0.3, 1.0),\n",
    "                                  horizontal_flip=True, \n",
    "                                  vertical_flip=True, \n",
    "                                  fill_mode='nearest'\n",
    "                                 )\n",
    "\n",
    "    \n",
    "    for filename in listdir(file_dir):\n",
    "        image = cv2.imread(file_dir + '/' + filename)\n",
    "        image = image.reshape((1,)+image.shape)\n",
    "        save_prefix = filename[:-4]\n",
    "        i=0\n",
    "        for batch in data_gen.flow(x=image, batch_size=1, save_to_dir=save_to_dir, \n",
    "                                           save_prefix=save_prefix, save_format='jpg'):\n",
    "            i += 1\n",
    "            if i > n_generated_samples:\n",
    "                break"
   ]
  },
  {
   "cell_type": "code",
   "execution_count": 34,
   "metadata": {},
   "outputs": [
    {
     "name": "stdout",
     "output_type": "stream",
     "text": [
      "Elapsed time: 0:0:0.0\n"
     ]
    }
   ],
   "source": [
    "start_time = time.time()\n",
    "\n",
    "augmented_data_path = \"C:\\\\Users\\\\hagar\\\\OneDrive\\\\Desktop\\\\Final GP models\\\\data\\\\\"\n",
    "\n",
    "class0 = 'C:\\\\Users\\\\hagar\\\\OneDrive\\\\Desktop\\\\Final GP models\\\\data\\\\Typically-Developing-Children(0)'\n",
    "class1 = 'C:\\\\Users\\\\hagar\\\\OneDrive\\\\Desktop\\\\Final GP models\\\\data\\\\ADHD-Combined(1)'\n",
    "class2 = 'C:\\\\Users\\\\hagar\\\\OneDrive\\\\Desktop\\\\Final GP models\\\\data\\\\\\\\ADHD-Hyperactive-Impuslive(2)'\n",
    "class3 = 'C:\\\\Users\\\\hagar\\\\OneDrive\\\\Desktop\\\\Final GP models\\\\data\\\\ADHD-Inattentive(3)'\n",
    "\n",
    "# augment_data(file_dir=class0, n_generated_samples=0.2, save_to_dir='C:\\\\Users\\\\hagar\\\\OneDrive\\\\Desktop\\\\Final GP models\\\\data\\\\Typically-Developing-Children(0)')\n",
    "# augment_data(file_dir=class1, n_generated_samples=1, save_to_dir='C:\\\\Users\\\\hagar\\\\OneDrive\\\\Desktop\\\\Final GP models\\\\data\\\\ADHD-Combined(1)')\n",
    "# augment_data(file_dir=class2, n_generated_samples=2, save_to_dir='C:\\\\Users\\\\hagar\\\\OneDrive\\\\Desktop\\\\Final GP models\\\\data\\\\\\\\ADHD-Hyperactive-Impuslive(2)')\n",
    "# augment_data(file_dir=class3, n_generated_samples=2, save_to_dir='C:\\\\Users\\\\hagar\\\\OneDrive\\\\Desktop\\\\Final GP models\\\\data\\\\ADHD-Inattentive(3)')\n",
    "\n",
    "end_time = time.time()\n",
    "execution_time = (end_time - start_time)\n",
    "print(f\"Elapsed time: {hms_string(execution_time)}\")"
   ]
  },
  {
   "cell_type": "code",
   "execution_count": 32,
   "metadata": {},
   "outputs": [],
   "source": [
    "def data_summary(main_path):\n",
    "    \n",
    "    class0 = 'C:\\\\Users\\\\hagar\\\\OneDrive\\\\Desktop\\\\Final GP models\\\\data\\\\Typically-Developing-Children(0)'\n",
    "    class1 = 'C:\\\\Users\\\\hagar\\\\OneDrive\\\\Desktop\\\\Final GP models\\\\data\\\\ADHD-Combined(1)'\n",
    "    class2 = 'C:\\\\Users\\\\hagar\\\\OneDrive\\\\Desktop\\\\Final GP models\\\\data\\\\\\\\ADHD-Hyperactive-Impuslive(2)'\n",
    "    class3 = 'C:\\\\Users\\\\hagar\\\\OneDrive\\\\Desktop\\\\Final GP models\\\\data\\\\ADHD-Inattentive(3)'\n",
    "    \n",
    "    c0 = len(listdir(class0))\n",
    "    c1 = len(listdir(class1))\n",
    "    c2 = len(listdir(class2))\n",
    "    c3 = len(listdir(class3))\n",
    "\n",
    "    m = (c0+c1+c2+c3)\n",
    "    \n",
    "    per0 = (c0* 100.0)/ m\n",
    "    per1 = (c1* 100.0)/ m\n",
    "    per2 = (c2* 100.0)/ m\n",
    "    per3 = (c3* 100.0)/ m\n",
    "\n",
    "    \n",
    "    print(f\"Number of examples: {m}\")\n",
    "    print(f\"Percentage of 0 examples: {per0}%, number of 0 examples: {c0}\") \n",
    "    print(f\"Percentage of 1 examples: {per1}%, number of 1 examples: {c1}\") \n",
    "    print(f\"Percentage of 2 examples: {per2}%, number of 2 examples: {c2}\") \n",
    "    print(f\"Percentage of 3 examples: {per3}%, number of 3 examples: {c3}\") "
   ]
  },
  {
   "cell_type": "code",
   "execution_count": 33,
   "metadata": {},
   "outputs": [
    {
     "name": "stdout",
     "output_type": "stream",
     "text": [
      "Number of examples: 40525\n",
      "Percentage of 0 examples: 26.220851326341766%, number of 0 examples: 10626\n",
      "Percentage of 1 examples: 27.71622455274522%, number of 1 examples: 11232\n",
      "Percentage of 2 examples: 22.25293028994448%, number of 2 examples: 9018\n",
      "Percentage of 3 examples: 23.809993830968537%, number of 3 examples: 9649\n"
     ]
    }
   ],
   "source": [
    "data_summary(augmented_data_path)"
   ]
  }
 ],
 "metadata": {
  "interpreter": {
   "hash": "cc6b09a7e3c48a7c5d983be0431c87b07429c04da6e5f89b988d9a99d95975ad"
  },
  "kernelspec": {
   "display_name": "Python 3.8.8 ('base')",
   "language": "python",
   "name": "python3"
  },
  "language_info": {
   "codemirror_mode": {
    "name": "ipython",
    "version": 3
   },
   "file_extension": ".py",
   "mimetype": "text/x-python",
   "name": "python",
   "nbconvert_exporter": "python",
   "pygments_lexer": "ipython3",
   "version": "3.8.8"
  }
 },
 "nbformat": 4,
 "nbformat_minor": 2
}
